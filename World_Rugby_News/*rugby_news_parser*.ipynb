{
 "cells": [
  {
   "cell_type": "code",
   "execution_count": 1,
   "metadata": {},
   "outputs": [],
   "source": [
    "from multiprocessing import Pool\n",
    "from urllib.request import urlopen as uReq, quote\n",
    "from bs4 import BeautifulSoup as soup\n",
    "import pandas as pd"
   ]
  },
  {
   "cell_type": "code",
   "execution_count": 2,
   "metadata": {},
   "outputs": [],
   "source": [
    "URL = 'https://www.world.rugby/news?p={0}'"
   ]
  },
  {
   "cell_type": "code",
   "execution_count": 42,
   "metadata": {},
   "outputs": [
    {
     "name": "stdout",
     "output_type": "stream",
     "text": [
      "CPU times: user 1min 21s, sys: 2.24 s, total: 1min 24s\n",
      "Wall time: 8min 43s\n"
     ]
    }
   ],
   "source": [
    "%%time\n",
    "URLS = [URL.format(x) for x in range(1, 1001)]\n",
    "\n",
    "TITLE = []\n",
    "TAG = []\n",
    "TEXT = []\n",
    "META = []\n",
    "\n",
    "\n",
    "for url in URLS:\n",
    "    uClient = uReq(url)\n",
    "    target_page = uClient.read()\n",
    "    uClient.close()\n",
    "    page_soup = soup(target_page, 'lxml')\n",
    "    containers = page_soup.findAll('figcaption')\n",
    "    for container in containers:\n",
    "        TITLE.append(container.h3.string)\n",
    "        TAG.append(container.span.string)\n",
    "        TEXT.append(container.p.string)\n",
    "        meta_buffer = container.ul.li.string\n",
    "        META.append(meta_buffer.strip())"
   ]
  },
  {
   "cell_type": "code",
   "execution_count": 43,
   "metadata": {},
   "outputs": [],
   "source": [
    "data = pd.DataFrame({'Title': TITLE, 'Tag': TAG, 'Text': TEXT,\n",
    "                     'Date': META})"
   ]
  },
  {
   "cell_type": "code",
   "execution_count": 45,
   "metadata": {},
   "outputs": [],
   "source": [
    "data.to_csv('world_rugby_news.csv', sep=',', header=True)"
   ]
  },
  {
   "cell_type": "code",
   "execution_count": null,
   "metadata": {},
   "outputs": [],
   "source": []
  }
 ],
 "metadata": {
  "kernelspec": {
   "display_name": "Python 3",
   "language": "python",
   "name": "python3"
  },
  "language_info": {
   "codemirror_mode": {
    "name": "ipython",
    "version": 3
   },
   "file_extension": ".py",
   "mimetype": "text/x-python",
   "name": "python",
   "nbconvert_exporter": "python",
   "pygments_lexer": "ipython3",
   "version": "3.6.9"
  }
 },
 "nbformat": 4,
 "nbformat_minor": 2
}
